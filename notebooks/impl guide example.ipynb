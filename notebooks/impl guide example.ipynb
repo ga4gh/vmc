{
 "cells": [
  {
   "cell_type": "code",
   "execution_count": 1,
   "id": "179551a7-acc8-42d2-964c-e9a37df49d47",
   "metadata": {},
   "outputs": [
    {
     "name": "stderr",
     "output_type": "stream",
     "text": [
      "Removing allOf attribute from CopyNumber to avoid pjs error.\n",
      "Removing allOf attribute from SequenceInterval to avoid pjs error.\n",
      "Removing allOf attribute from RepeatedSequenceExpression to avoid pjs error.\n",
      "/home/reece/projects/ga4gh/vrs-python/venv/3.9/lib/python3.9/site-packages/python_jsonschema_objects/__init__.py:50: UserWarning: Schema version http://json-schema.org/draft-07/schema not recognized. Some keywords and features may not be supported.\n",
      "  warnings.warn(\n"
     ]
    },
    {
     "data": {
      "text/plain": [
       "'0.7.0rc4.dev4+gd806dd4.d20210628'"
      ]
     },
     "execution_count": 1,
     "metadata": {},
     "output_type": "execute_result"
    }
   ],
   "source": [
    "import json\n",
    "import string\n",
    "import yaml\n",
    "\n",
    "from IPython.display import display, Markdown\n",
    "\n",
    "from ga4gh.core import ga4gh_digest, ga4gh_identify, ga4gh_serialize, is_identifiable, sha512t24u\n",
    "from ga4gh.vrs import __version__, models, normalize, vrs_enref, vrs_deref\n",
    "__version__"
   ]
  },
  {
   "cell_type": "code",
   "execution_count": 17,
   "id": "275dc78b-cd35-4bb4-b147-bc50523b6292",
   "metadata": {
    "tags": []
   },
   "outputs": [],
   "source": [
    "def filter_dict(d) -> dict:\n",
    "    \"\"\"remove keys starting with underscore\"\"\"\n",
    "    try:\n",
    "        return {k: filter_dict(d[k])\n",
    "                for k in d\n",
    "                if not k.startswith(\"_\")}\n",
    "    except:\n",
    "        return d\n",
    "def dump_json(o) -> str:\n",
    "    \"\"\"return VRS object as pretty formated json (string)\"\"\"\n",
    "    return json.dumps(filter_dict(o.as_dict()), indent=2, sort_keys=True)\n",
    "def dump_tests(o, fns=None) -> str:\n",
    "    \"\"\"return VRS object with and function results as yaml test definition (string)\"\"\"\n",
    "    def as_str(s) -> str:\n",
    "        return s if isinstance(s, str) else s.decode()\n",
    "    if fns is None:\n",
    "        fns = [ga4gh_serialize]\n",
    "        if is_identifiable(o):\n",
    "            fns += [ga4gh_digest, ga4gh_identify]\n",
    "    r = {\n",
    "        \"in\": o.as_dict(),\n",
    "        \"out\": {f.__name__: as_str(f(o)) for f in fns}\n",
    "    }\n",
    "    return yaml.dump(filter_dict({o.type._value: {\"-\": r}})).replace(\"'-':\",\"-\")\n",
    "\n",
    "all_yaml = \"\"\n",
    "def output(o) -> None:\n",
    "    \"\"\"dump as json and yaml\"\"\"\n",
    "    global all_yaml\n",
    "    test_yaml = dump_tests(o)\n",
    "    all_yaml += test_yaml\n",
    "    md = [\n",
    "        \"**example object**\",\n",
    "        \"```\",\n",
    "        dump_json(o),\n",
    "        \"```\",\n",
    "        \"\",\n",
    "        \"**validation test**\",\n",
    "        \"```\",\n",
    "        test_yaml,\n",
    "        \"```\",\n",
    "    ]\n",
    "    display(Markdown(\"\\n\".join(md)))\n",
    "def pj(o): print(dump_json(o))"
   ]
  },
  {
   "cell_type": "markdown",
   "id": "78367f4c-9f10-4edc-998a-c32c4b13dc5c",
   "metadata": {},
   "source": [
    "----\n",
    "# External Data"
   ]
  },
  {
   "cell_type": "code",
   "execution_count": 18,
   "id": "60482bf1-8619-4bf4-a8ca-b2b312df8c0c",
   "metadata": {},
   "outputs": [],
   "source": [
    "from ga4gh.vrs.dataproxy import SeqRepoRESTDataProxy\n",
    "seqrepo_rest_service_url = \"http://localhost:5000/seqrepo\"\n",
    "dp = SeqRepoRESTDataProxy(base_url=seqrepo_rest_service_url)"
   ]
  },
  {
   "cell_type": "code",
   "execution_count": 19,
   "id": "72a221bd-15a7-4248-a1b8-46df453c5976",
   "metadata": {},
   "outputs": [],
   "source": [
    "def get_sequence(identifier, start=None, end=None):\n",
    "    \"\"\"returns sequence for given identifier, optionally limited to interbase <start, end> interval\"\"\"\n",
    "    return dp.get_sequence(identifier, start, end)\n",
    "def get_sequence_length(identifier):\n",
    "    \"\"\"return length of given sequence identifier\"\"\"\n",
    "    return dp.get_metadata(identifier)[\"length\"]\n",
    "def translate_sequence_identifier(identifier, namespace):\n",
    "    \"\"\"return for given identifier, return *list* of equivalent identifiers in given namespace\"\"\"\n",
    "    return dp.translate_sequence_identifier(identifier, namespace)"
   ]
  },
  {
   "cell_type": "code",
   "execution_count": 20,
   "id": "2a148604-eba4-42d7-8fb5-500cad810fee",
   "metadata": {},
   "outputs": [],
   "source": [
    "# NC_000019.10:g.44908822C>T"
   ]
  },
  {
   "cell_type": "code",
   "execution_count": 21,
   "id": "682b889b-d561-4274-86ef-3ea79bad528f",
   "metadata": {},
   "outputs": [
    {
     "data": {
      "text/plain": [
       "'ga4gh:GS.IIB53T8CNeJJdUqzn9V_JnRtQadwWCbl'"
      ]
     },
     "execution_count": 21,
     "metadata": {},
     "output_type": "execute_result"
    }
   ],
   "source": [
    "GRCh38chr19 = translate_sequence_identifier(\"NC_000019.10\",\"ga4gh\")[0]\n",
    "GRCh38chr19"
   ]
  },
  {
   "cell_type": "code",
   "execution_count": 23,
   "id": "9cb99b7d-3d53-4c8c-9509-16c6c5993ca8",
   "metadata": {},
   "outputs": [
    {
     "name": "stdout",
     "output_type": "stream",
     "text": [
      "{\n",
      "  \"end\": {\n",
      "    \"type\": \"Number\",\n",
      "    \"value\": 44908822\n",
      "  },\n",
      "  \"start\": {\n",
      "    \"type\": \"Number\",\n",
      "    \"value\": 44908821\n",
      "  },\n",
      "  \"type\": \"SequenceInterval\"\n",
      "}\n"
     ]
    }
   ],
   "source": [
    "interval = models.SequenceInterval(\n",
    "    start=models.Number(value=44908821),\n",
    "    end=models.Number(value=44908822))\n",
    "pj(interval)"
   ]
  },
  {
   "cell_type": "code",
   "execution_count": 26,
   "id": "0c86a1d4-72a8-40fb-8f45-a5eda9a30272",
   "metadata": {},
   "outputs": [
    {
     "name": "stdout",
     "output_type": "stream",
     "text": [
      "{\n",
      "  \"interval\": {\n",
      "    \"end\": {\n",
      "      \"type\": \"Number\",\n",
      "      \"value\": 44908822\n",
      "    },\n",
      "    \"start\": {\n",
      "      \"type\": \"Number\",\n",
      "      \"value\": 44908821\n",
      "    },\n",
      "    \"type\": \"SequenceInterval\"\n",
      "  },\n",
      "  \"sequence_id\": \"refseq:NC_000019.10\",\n",
      "  \"type\": \"SequenceLocation\"\n",
      "}\n"
     ]
    }
   ],
   "source": [
    "location = models.SequenceLocation(\n",
    "    sequence_id=\"refseq:NC_000019.10\",\n",
    "    interval=interval)\n",
    "pj(location)"
   ]
  },
  {
   "cell_type": "code",
   "execution_count": 28,
   "id": "65196a79-d595-4c7a-ab95-eba6cd46b04b",
   "metadata": {},
   "outputs": [
    {
     "name": "stdout",
     "output_type": "stream",
     "text": [
      "{\n",
      "  \"sequence\": \"T\",\n",
      "  \"type\": \"LiteralSequenceExpression\"\n",
      "}\n"
     ]
    }
   ],
   "source": [
    "lse = models.LiteralSequenceExpression(sequence=\"T\")\n",
    "pj(lse)"
   ]
  },
  {
   "cell_type": "code",
   "execution_count": 30,
   "id": "5418cb95-7b6f-42ac-8168-c76eb5d0012a",
   "metadata": {},
   "outputs": [
    {
     "name": "stdout",
     "output_type": "stream",
     "text": [
      "{\n",
      "  \"location\": {\n",
      "    \"interval\": {\n",
      "      \"end\": {\n",
      "        \"type\": \"Number\",\n",
      "        \"value\": 44908822\n",
      "      },\n",
      "      \"start\": {\n",
      "        \"type\": \"Number\",\n",
      "        \"value\": 44908821\n",
      "      },\n",
      "      \"type\": \"SequenceInterval\"\n",
      "    },\n",
      "    \"sequence_id\": \"refseq:NC_000019.10\",\n",
      "    \"type\": \"SequenceLocation\"\n",
      "  },\n",
      "  \"state\": {\n",
      "    \"sequence\": \"T\",\n",
      "    \"type\": \"LiteralSequenceExpression\"\n",
      "  },\n",
      "  \"type\": \"Allele\"\n",
      "}\n"
     ]
    }
   ],
   "source": [
    "a = models.Allele(location=location, state=lse)\n",
    "pj(a)"
   ]
  },
  {
   "cell_type": "code",
   "execution_count": 37,
   "id": "65b901e2-1350-45aa-afd7-8d07143012f1",
   "metadata": {},
   "outputs": [
    {
     "data": {
      "text/plain": [
       "b'{\"location\":\"esDSArZQC-Sx-96ZZzHnzAVNOc439oE5\",\"state\":{\"sequence\":\"T\",\"type\":\"LiteralSequenceExpression\"},\"type\":\"Allele\"}'"
      ]
     },
     "execution_count": 37,
     "metadata": {},
     "output_type": "execute_result"
    }
   ],
   "source": [
    "s = ga4gh_serialize(a)\n",
    "s"
   ]
  },
  {
   "cell_type": "code",
   "execution_count": 31,
   "id": "16b8b87f-6402-40e1-b913-11851eb57f95",
   "metadata": {},
   "outputs": [
    {
     "data": {
      "text/plain": [
       "'ga4gh:VA._YNe5V9kyydfkGU0NRyCMHDSKHL4YNvc'"
      ]
     },
     "execution_count": 31,
     "metadata": {},
     "output_type": "execute_result"
    }
   ],
   "source": [
    "ir = ga4gh_identify(a)\n",
    "ir"
   ]
  },
  {
   "cell_type": "code",
   "execution_count": 35,
   "id": "9c44f8c9-fdea-4646-a059-a4ecd5141241",
   "metadata": {},
   "outputs": [
    {
     "name": "stdout",
     "output_type": "stream",
     "text": [
      "{\n",
      "  \"_id\": \"ga4gh:VA._YNe5V9kyydfkGU0NRyCMHDSKHL4YNvc\",\n",
      "  \"location\": {\n",
      "    \"interval\": {\n",
      "      \"end\": {\n",
      "        \"type\": \"Number\",\n",
      "        \"value\": 44908822\n",
      "      },\n",
      "      \"start\": {\n",
      "        \"type\": \"Number\",\n",
      "        \"value\": 44908821\n",
      "      },\n",
      "      \"type\": \"SequenceInterval\"\n",
      "    },\n",
      "    \"sequence_id\": \"refseq:NC_000019.10\",\n",
      "    \"type\": \"SequenceLocation\"\n",
      "  },\n",
      "  \"state\": {\n",
      "    \"sequence\": \"T\",\n",
      "    \"type\": \"LiteralSequenceExpression\"\n",
      "  },\n",
      "  \"type\": \"Allele\"\n",
      "}\n"
     ]
    }
   ],
   "source": [
    "a._id = ir\n",
    "print(json.dumps(a.as_dict(), indent=2, sort_keys=True))"
   ]
  },
  {
   "cell_type": "code",
   "execution_count": null,
   "id": "7cbc361a-17d9-4991-ac6d-143e56775815",
   "metadata": {},
   "outputs": [],
   "source": []
  }
 ],
 "metadata": {
  "kernelspec": {
   "display_name": "Python 3",
   "language": "python",
   "name": "python3"
  },
  "language_info": {
   "codemirror_mode": {
    "name": "ipython",
    "version": 3
   },
   "file_extension": ".py",
   "mimetype": "text/x-python",
   "name": "python",
   "nbconvert_exporter": "python",
   "pygments_lexer": "ipython3",
   "version": "3.9.5"
  }
 },
 "nbformat": 4,
 "nbformat_minor": 5
}
